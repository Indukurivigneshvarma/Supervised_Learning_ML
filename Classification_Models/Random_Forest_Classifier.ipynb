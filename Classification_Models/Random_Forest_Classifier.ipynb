{
 "cells": [
  {
   "cell_type": "code",
   "execution_count": 1,
   "id": "00286be0",
   "metadata": {},
   "outputs": [
    {
     "name": "stdout",
     "output_type": "stream",
     "text": [
      "\n",
      "Random Forest Classifier Results:\n",
      "Accuracy: 1.0000\n",
      "F1 Score (weighted): 1.0000\n",
      "Confusion Matrix:\n",
      "[[12  0  0]\n",
      " [ 0 14  0]\n",
      " [ 0  0 10]]\n",
      "\n",
      "Classification Report:\n",
      "              precision    recall  f1-score   support\n",
      "\n",
      "     class_0       1.00      1.00      1.00        12\n",
      "     class_1       1.00      1.00      1.00        14\n",
      "     class_2       1.00      1.00      1.00        10\n",
      "\n",
      "    accuracy                           1.00        36\n",
      "   macro avg       1.00      1.00      1.00        36\n",
      "weighted avg       1.00      1.00      1.00        36\n",
      "\n"
     ]
    }
   ],
   "source": [
    "import pandas as pd\n",
    "from sklearn.datasets import load_wine\n",
    "from sklearn.model_selection import train_test_split\n",
    "from sklearn.ensemble import RandomForestClassifier\n",
    "from sklearn.metrics import accuracy_score, f1_score, confusion_matrix, classification_report\n",
    "\n",
    "data = load_wine()\n",
    "X = pd.DataFrame(data.data, columns=data.feature_names)\n",
    "y = pd.Series(data.target)\n",
    "\n",
    "X_train, X_test, y_train, y_test = train_test_split(\n",
    "    X, y, test_size=0.2, random_state=42, stratify=y\n",
    ")\n",
    "\n",
    "rf_model = RandomForestClassifier(n_estimators= 100,random_state=42)\n",
    "rf_model.fit(X_train, y_train)\n",
    "y_pred = rf_model.predict(X_test)\n",
    "\n",
    "accuracy = accuracy_score(y_test, y_pred)\n",
    "f1 = f1_score(y_test, y_pred, average='weighted')  \n",
    "cm = confusion_matrix(y_test, y_pred)\n",
    "\n",
    "print(\"\\nRandom Forest Classifier Results:\")\n",
    "print(f\"Accuracy: {accuracy:.4f}\")\n",
    "print(f\"F1 Score (weighted): {f1:.4f}\")\n",
    "print(\"Confusion Matrix:\")\n",
    "print(cm)\n",
    "print(\"\\nClassification Report:\")\n",
    "print(classification_report(y_test, y_pred, target_names=data.target_names))"
   ]
  },
  {
   "cell_type": "code",
   "execution_count": null,
   "id": "41c33539",
   "metadata": {},
   "outputs": [
    {
     "name": "stdout",
     "output_type": "stream",
     "text": [
      "Input 1 predicted as: class_0\n",
      "Input 2 predicted as: class_1\n",
      "Input 3 predicted as: class_0\n"
     ]
    }
   ],
   "source": [
    "inputs = [\n",
    "    [14.2, 1.7, 2.7, 16.0, 110.0, 2.8, 2.5, 0.3, 1.8, 5.5, 1.0, 3.2, 1000.0],  \n",
    "    [12.0, 1.0, 1.8, 12.5, 85.0, 2.0, 1.5, 0.2, 1.0, 3.5, 0.6, 2.2, 650.0],   \n",
    "    [13.8, 2.4, 3.0, 15.5, 108.0, 3.1, 2.6, 0.33, 1.9, 5.8, 1.2, 3.4, 1020.0]  \n",
    "]\n",
    "\n",
    "\n",
    "for i, manual_input in enumerate(inputs):\n",
    "    input_df = pd.DataFrame([manual_input], columns=X.columns)\n",
    "    prediction = rf_model.predict(input_df)\n",
    "    pred_label = data.target_names[prediction[0]]\n",
    "    print(f\"Input {i+1} predicted as: {pred_label}\")\n"
   ]
  },
  {
   "cell_type": "code",
   "execution_count": null,
   "id": "be9c0a37",
   "metadata": {},
   "outputs": [],
   "source": []
  }
 ],
 "metadata": {
  "kernelspec": {
   "display_name": "python_course",
   "language": "python",
   "name": "python3"
  },
  "language_info": {
   "codemirror_mode": {
    "name": "ipython",
    "version": 3
   },
   "file_extension": ".py",
   "mimetype": "text/x-python",
   "name": "python",
   "nbconvert_exporter": "python",
   "pygments_lexer": "ipython3",
   "version": "3.13.7"
  }
 },
 "nbformat": 4,
 "nbformat_minor": 5
}
