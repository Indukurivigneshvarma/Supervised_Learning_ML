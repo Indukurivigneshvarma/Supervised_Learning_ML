{
 "cells": [
  {
   "cell_type": "code",
   "execution_count": 1,
   "id": "49ea0fa1",
   "metadata": {},
   "outputs": [
    {
     "name": "stdout",
     "output_type": "stream",
     "text": [
      "\n",
      "Linear SVM Classifier Results:\n",
      "Accuracy: 0.9444\n",
      "F1 Score (weighted): 0.9443\n",
      "Confusion Matrix:\n",
      "[[12  0  0]\n",
      " [ 1 13  0]\n",
      " [ 0  1  9]]\n",
      "\n",
      "Classification Report:\n",
      "              precision    recall  f1-score   support\n",
      "\n",
      "     class_0       0.92      1.00      0.96        12\n",
      "     class_1       0.93      0.93      0.93        14\n",
      "     class_2       1.00      0.90      0.95        10\n",
      "\n",
      "    accuracy                           0.94        36\n",
      "   macro avg       0.95      0.94      0.95        36\n",
      "weighted avg       0.95      0.94      0.94        36\n",
      "\n"
     ]
    }
   ],
   "source": [
    "import pandas as pd\n",
    "from sklearn.datasets import load_wine\n",
    "from sklearn.model_selection import train_test_split\n",
    "from sklearn.svm import SVC\n",
    "from sklearn.metrics import accuracy_score, f1_score, confusion_matrix, classification_report\n",
    "\n",
    "data = load_wine()\n",
    "X = pd.DataFrame(data.data, columns=data.feature_names)\n",
    "y = pd.Series(data.target)\n",
    "\n",
    "X_train, X_test, y_train, y_test = train_test_split(\n",
    "    X, y, test_size=0.2, random_state=42, stratify=y\n",
    ")\n",
    "\n",
    "from sklearn.preprocessing import StandardScaler\n",
    "scaler = StandardScaler()\n",
    "X_train_scaled = scaler.fit_transform(X_train)\n",
    "X_test_scaled= scaler.transform(X_test)\n",
    "\n",
    "linear_svm_model = SVC( kernel='linear', random_state=42)\n",
    "linear_svm_model.fit(X_train_scaled, y_train)\n",
    "y_pred = linear_svm_model.predict(X_test_scaled)\n",
    "\n",
    "accuracy = accuracy_score(y_test, y_pred)\n",
    "f1 = f1_score(y_test, y_pred, average='weighted')  \n",
    "cm = confusion_matrix(y_test, y_pred)\n",
    "\n",
    "print(\"\\nLinear SVM Classifier Results:\")\n",
    "print(f\"Accuracy: {accuracy:.4f}\")\n",
    "print(f\"F1 Score (weighted): {f1:.4f}\")\n",
    "print(\"Confusion Matrix:\")\n",
    "print(cm)\n",
    "print(\"\\nClassification Report:\")\n",
    "print(classification_report(y_test, y_pred, target_names=data.target_names))"
   ]
  },
  {
   "cell_type": "code",
   "execution_count": 2,
   "id": "319261c0",
   "metadata": {},
   "outputs": [
    {
     "name": "stdout",
     "output_type": "stream",
     "text": [
      "Input 1 predicted as: class_0\n",
      "Input 2 predicted as: class_1\n",
      "Input 3 predicted as: class_0\n"
     ]
    }
   ],
   "source": [
    "inputs = [\n",
    "    [13.0, 2.0, 2.5, 15.0, 100.0, 2.5, 2.0, 0.3, 1.5, 5.0, 1.0, 3.0, 900.0], \n",
    "    [12.0, 1.5, 2.0, 14.0, 90.0, 2.2, 1.8, 0.25, 1.2, 4.0, 0.8, 2.5, 750.0], \n",
    "    [14.0, 2.5, 3.0, 16.0, 110.0, 3.0, 2.5, 0.35, 1.8, 5.5, 1.2, 3.2, 1050.0]  \n",
    "]\n",
    "\n",
    "for i, manual_input in enumerate(inputs):\n",
    "    input_df = pd.DataFrame([manual_input], columns=X.columns)\n",
    "    input_scaled= scaler.transform(input_df)\n",
    "    prediction = linear_svm_model.predict(input_scaled)\n",
    "    pred_label = data.target_names[prediction[0]]\n",
    "    print(f\"Input {i+1} predicted as: {pred_label}\")\n"
   ]
  },
  {
   "cell_type": "code",
   "execution_count": null,
   "id": "3ff035ac",
   "metadata": {},
   "outputs": [],
   "source": []
  }
 ],
 "metadata": {
  "kernelspec": {
   "display_name": "python_course",
   "language": "python",
   "name": "python3"
  },
  "language_info": {
   "codemirror_mode": {
    "name": "ipython",
    "version": 3
   },
   "file_extension": ".py",
   "mimetype": "text/x-python",
   "name": "python",
   "nbconvert_exporter": "python",
   "pygments_lexer": "ipython3",
   "version": "3.13.7"
  }
 },
 "nbformat": 4,
 "nbformat_minor": 5
}
