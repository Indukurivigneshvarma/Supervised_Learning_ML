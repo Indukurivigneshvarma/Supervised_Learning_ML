{
 "cells": [
  {
   "cell_type": "code",
   "execution_count": 2,
   "id": "e8837c54",
   "metadata": {},
   "outputs": [],
   "source": [
    "import sklearn\n",
    "import numpy as np\n",
    "import pandas as pd\n",
    "from sklearn.model_selection import train_test_split\n",
    "from sklearn.ensemble import GradientBoostingRegressor\n",
    "from sklearn.metrics import mean_squared_error, r2_score\n",
    "from sklearn.datasets import fetch_california_housing\n",
    "\n",
    "california = fetch_california_housing()\n",
    "df = pd.DataFrame(california.data, columns=california.feature_names)\n",
    "df['Price'] = california.target\n",
    "\n",
    "for col in df.columns:\n",
    "    df[col] = df[col].astype(str) \n",
    "    df[col] = df[col].str.replace(r\"[\\$,]\", \"\", regex=True).str.strip()\n",
    "    df[col] = pd.to_numeric(df[col], errors='coerce')\n",
    "\n",
    "df = df.dropna()\n"
   ]
  },
  {
   "cell_type": "code",
   "execution_count": 4,
   "id": "713d34f5",
   "metadata": {},
   "outputs": [
    {
     "name": "stdout",
     "output_type": "stream",
     "text": [
      "\n",
      "📊 Gradient Boosting Performance:\n",
      "Mean Squared Error (MSE): 0.2279\n",
      "R² Score: 0.8261\n",
      "\n",
      "💰 Predicted House Price (Gradient Boosting): $392357.34\n"
     ]
    },
    {
     "name": "stderr",
     "output_type": "stream",
     "text": [
      "c:\\Users\\Bluepal\\anaconda3\\envs\\python_course\\Lib\\site-packages\\sklearn\\utils\\validation.py:2742: UserWarning: X has feature names, but GradientBoostingRegressor was fitted without feature names\n",
      "  warnings.warn(\n"
     ]
    }
   ],
   "source": [
    "X = df.drop('Price', axis=1)\n",
    "y = df['Price']\n",
    "\n",
    "from sklearn.preprocessing import StandardScaler\n",
    "scaler = StandardScaler()\n",
    "X_scaled = scaler.fit_transform(X)\n",
    "\n",
    "X_train, X_test, y_train, y_test = train_test_split(\n",
    "    X_scaled, y, test_size=0.2, random_state=42\n",
    ")\n",
    "\n",
    "gbr = GradientBoostingRegressor(\n",
    "    n_estimators=300,     \n",
    "    learning_rate=0.1,    \n",
    "    max_depth=4,          \n",
    "    min_samples_split=2,\n",
    "    min_samples_leaf=1,\n",
    "    random_state=42\n",
    ")\n",
    "gbr.fit(X_train, y_train)\n",
    "y_pred_gbr = gbr.predict(X_test)\n",
    "\n",
    "print(\"\\n📊 Gradient Boosting Performance:\")\n",
    "print(f\"Mean Squared Error (MSE): {mean_squared_error(y_test, y_pred_gbr):.4f}\")\n",
    "print(f\"R² Score: {r2_score(y_test, y_pred_gbr):.4f}\")\n",
    "\n",
    "input_values = [8.3252, 41, 6.984, 1.023, 322, 2.5, 37.88, -122.23]\n",
    "input_df = pd.DataFrame([input_values], columns=X.columns)\n",
    "\n",
    "predicted_price = gbr.predict(input_df)\n",
    "print(f\"\\n💰 Predicted House Price (Gradient Boosting): ${predicted_price[0]*100000:.2f}\")"
   ]
  },
  {
   "cell_type": "code",
   "execution_count": null,
   "id": "2f9dfecc",
   "metadata": {},
   "outputs": [],
   "source": []
  }
 ],
 "metadata": {
  "kernelspec": {
   "display_name": "python_course",
   "language": "python",
   "name": "python3"
  },
  "language_info": {
   "codemirror_mode": {
    "name": "ipython",
    "version": 3
   },
   "file_extension": ".py",
   "mimetype": "text/x-python",
   "name": "python",
   "nbconvert_exporter": "python",
   "pygments_lexer": "ipython3",
   "version": "3.13.7"
  }
 },
 "nbformat": 4,
 "nbformat_minor": 5
}
